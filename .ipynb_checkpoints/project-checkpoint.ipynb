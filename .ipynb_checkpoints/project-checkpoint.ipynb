{
 "cells": [
  {
   "cell_type": "markdown",
   "metadata": {
    "id": "Lhx6rgnN707Q"
   },
   "source": [
    "## <span style=\"color:black\">Mount drive to notebook</span>"
   ]
  },
  {
   "cell_type": "code",
   "execution_count": 1,
   "metadata": {
    "colab": {
     "base_uri": "https://localhost:8080/"
    },
    "id": "sW_us8hf7dYG",
    "outputId": "8e77ed56-0555-47f8-f31b-0a63fd668044"
   },
   "outputs": [
    {
     "ename": "ModuleNotFoundError",
     "evalue": "No module named 'google'",
     "output_type": "error",
     "traceback": [
      "\u001b[0;31m---------------------------------------------------------------------------\u001b[0m",
      "\u001b[0;31mModuleNotFoundError\u001b[0m                       Traceback (most recent call last)",
      "\u001b[0;32m/tmp/ipykernel_19272/1408506528.py\u001b[0m in \u001b[0;36m<module>\u001b[0;34m\u001b[0m\n\u001b[0;32m----> 1\u001b[0;31m \u001b[0;32mfrom\u001b[0m \u001b[0mgoogle\u001b[0m\u001b[0;34m.\u001b[0m\u001b[0mcolab\u001b[0m \u001b[0;32mimport\u001b[0m \u001b[0mdrive\u001b[0m\u001b[0;34m\u001b[0m\u001b[0;34m\u001b[0m\u001b[0m\n\u001b[0m\u001b[1;32m      2\u001b[0m \u001b[0mdrive\u001b[0m\u001b[0;34m.\u001b[0m\u001b[0mmount\u001b[0m\u001b[0;34m(\u001b[0m\u001b[0;34m'/content/drive'\u001b[0m\u001b[0;34m)\u001b[0m\u001b[0;34m\u001b[0m\u001b[0;34m\u001b[0m\u001b[0m\n",
      "\u001b[0;31mModuleNotFoundError\u001b[0m: No module named 'google'"
     ]
    }
   ],
   "source": [
    "from google.colab import drive\n",
    "drive.mount('/content/drive')"
   ]
  },
  {
   "cell_type": "markdown",
   "metadata": {
    "id": "tv1aGtHU8Bby"
   },
   "source": [
    "## <span style=\"color:black\">Install needed packages</span>"
   ]
  },
  {
   "cell_type": "code",
   "execution_count": 2,
   "metadata": {
    "colab": {
     "base_uri": "https://localhost:8080/"
    },
    "id": "UF91Gqe27gj0",
    "outputId": "ec2b5b38-52d7-48d0-e8ca-6c69173c0fb8"
   },
   "outputs": [],
   "source": [
    "import tld\n",
    "from tld import get_tld\n",
    "import nltk\n",
    "import gensim\n",
    "import bz2\n",
    "import json\n",
    "from urllib.request import urlopen\n",
    "from bs4 import BeautifulSoup\n",
    "import glob\n",
    "\n",
    "# Add constants/paths\n",
    "path_to_datsets = '/content/drive/Shareddrives/ADA LUNATICS 2021/datasets/Quotebank'\n",
    "quote_datasets = sorted(glob.glob(path_to_datsets+'/*.bz2'))\n",
    "quote_datasets"
   ]
  },
  {
   "cell_type": "markdown",
   "metadata": {},
   "source": [
    "### <span style=\"color:Blue\">1) Load Datasets</span>"
   ]
  },
  {
   "cell_type": "markdown",
   "metadata": {},
   "source": [
    "### <span style=\"color:Blue\">2) Topic Analysis</span>"
   ]
  },
  {
   "cell_type": "markdown",
   "metadata": {},
   "source": [
    "#### <span style=\"color:green\">A- Manual Extraction Method</span>"
   ]
  },
  {
   "cell_type": "markdown",
   "metadata": {},
   "source": [
    "#### <span style=\"color:green\">B- Parsing URLs Method</span>"
   ]
  },
  {
   "cell_type": "markdown",
   "metadata": {
    "jp-MarkdownHeadingCollapsed": true,
    "tags": []
   },
   "source": [
    "#### <span style=\"color:green\">C- NLP-based Method</span>"
   ]
  },
  {
   "cell_type": "markdown",
   "metadata": {},
   "source": [
    "### <span style=\"color:Blue\">3) Dataset Augmentation</span>"
   ]
  },
  {
   "cell_type": "markdown",
   "metadata": {},
   "source": [
    "### <span style=\"color:Blue\">4) Correlation/Significance Analysis</span>"
   ]
  },
  {
   "cell_type": "code",
   "execution_count": 40,
   "metadata": {
    "id": "Ya8LNYoDCgjE"
   },
   "outputs": [],
   "source": [
    "def get_domain(url):\n",
    "    '''Doc'''\n",
    "    res = get_tld(url, as_object=True)\n",
    "    return res.parsed_url\n"
   ]
  },
  {
   "cell_type": "markdown",
   "metadata": {
    "id": "mjigfK4F8U_G"
   },
   "source": [
    "Parse article title from urls from data"
   ]
  },
  {
   "cell_type": "code",
   "execution_count": 43,
   "metadata": {
    "colab": {
     "base_uri": "https://localhost:8080/"
    },
    "id": "LWwZm86Q8cgJ",
    "outputId": "ea7454cf-0326-48b8-fb86-fb0bace0f0ec"
   },
   "outputs": [
    {
     "name": "stdout",
     "output_type": "stream",
     "text": [
      "['http://www.santacruzsentinel.com/environment-and-nature/20180630/dan-haifley-our-ocean-backyard-beach-cleanups-fight-plastic-pollution', 'http://www.santacruzsentinel.com/environment-and-nature/20180630/dan-haifley-our-ocean-backyard-cbeach-cleanups-fight-plastic-pollution', 'https://www.santacruzsentinel.com/2019/02/23/circular-living-for-the-sea-dan-haifley-our-ocean-backyard/']\n",
      "/environment-and-nature/20180630/dan-haifley-our-ocean-backyard-beach-cleanups-fight-plastic-pollution\n",
      "/environment-and-nature/20180630/dan-haifley-our-ocean-backyard-cbeach-cleanups-fight-plastic-pollution\n",
      "/2019/02/23/circular-living-for-the-sea-dan-haifley-our-ocean-backyard/\n"
     ]
    }
   ],
   "source": [
    "with bz2.open(quote_datasets[3], 'rb') as s_file:\n",
    "  # target url\n",
    "  for instance in s_file:\n",
    "    instance = json.loads(instance) # loading a sample\n",
    "    urls = instance['urls'] # extracting list of links\n",
    "    print(urls)\n",
    "    domains = []\n",
    "    for url in urls:\n",
    "        tld = get_domain(url)\n",
    "        domains.append(tld)\n",
    "        print(tld.path)\n",
    "    break\n",
    "  \n",
    "# # displaying the title\n",
    "# print(\"Title of the website is : \")\n",
    "# print (soup.title.get_text())"
   ]
  },
  {
   "cell_type": "code",
   "execution_count": null,
   "metadata": {
    "id": "n699y9vp-tTR"
   },
   "outputs": [],
   "source": []
  },
  {
   "cell_type": "code",
   "execution_count": null,
   "metadata": {
    "id": "V2nkGu0TAQJ0"
   },
   "outputs": [],
   "source": []
  }
 ],
 "metadata": {
  "colab": {
   "name": "project.ipynb",
   "provenance": []
  },
  "kernelspec": {
   "display_name": "Python 3 (ipykernel)",
   "language": "python",
   "name": "python3"
  },
  "language_info": {
   "codemirror_mode": {
    "name": "ipython",
    "version": 3
   },
   "file_extension": ".py",
   "mimetype": "text/x-python",
   "name": "python",
   "nbconvert_exporter": "python",
   "pygments_lexer": "ipython3",
   "version": "3.8.11"
  }
 },
 "nbformat": 4,
 "nbformat_minor": 4
}
