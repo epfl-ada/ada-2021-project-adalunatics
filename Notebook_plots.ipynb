{
  "nbformat": 4,
  "nbformat_minor": 0,
  "metadata": {
    "colab": {
      "name": "Untitled5.ipynb",
      "provenance": []
    },
    "kernelspec": {
      "name": "python3",
      "display_name": "Python 3"
    },
    "language_info": {
      "name": "python"
    }
  },
  "cells": [
    {
      "cell_type": "markdown",
      "source": [
        "## <span style=\"color:black\">Install needed packages</span>"
      ],
      "metadata": {
        "id": "gz1N1eqAMG7h"
      }
    },
    {
      "cell_type": "code",
      "execution_count": 1,
      "metadata": {
        "colab": {
          "base_uri": "https://localhost:8080/"
        },
        "id": "A69uWfI4MBjU",
        "outputId": "f9750aab-20df-430a-936c-2a0b89dbd6f5"
      },
      "outputs": [
        {
          "output_type": "stream",
          "name": "stdout",
          "text": [
            "Mounted at /content/drive\n"
          ]
        }
      ],
      "source": [
        "from google.colab import drive\n",
        "drive.mount('/content/drive', force_remount=True)"
      ]
    },
    {
      "cell_type": "code",
      "source": [
        "!pip install tld\n",
        "!pip install pandas==1.0.5\n",
        "\n",
        "import os\n",
        "import bz2\n",
        "import json\n",
        "import glob\n",
        "import warnings\n",
        "import numpy as np\n",
        "import pandas as pd\n",
        "import seaborn as sns\n",
        "import matplotlib.pyplot as plt\n",
        "from wordcloud import WordCloud\n",
        "#from utils import process_chunk, process_text, manual_extraction, ids_to_tweets, embedSentence, embedding, averageEmbedding, featurize\n",
        "\n",
        "#Packages for url parsing\n",
        "import tld\n",
        "from tld import get_tld\n",
        "import requests\n",
        "from urllib.request import urlopen\n",
        "from bs4 import BeautifulSoup\n",
        "from urllib.request import urlopen\n",
        "#Packages for dimentionality reduction\n",
        "from sklearn.preprocessing import StandardScaler, MinMaxScaler\n",
        "from sklearn.decomposition import PCA\n",
        "from sklearn.manifold import TSNE\n",
        "from nltk.tokenize.treebank import TreebankWordDetokenizer\n",
        "#Packages for NLP methods\n",
        "import re\n",
        "import nltk\n",
        "import gensim\n",
        "from gensim import models\n",
        "from gensim import corpora\n",
        "import gensim.downloader as api\n",
        "from gensim.test.utils import datapath, common_texts\n",
        "from nltk.corpus import stopwords\n",
        "from nltk.tokenize import word_tokenize\n",
        "from nltk.stem.porter import PorterStemmer\n",
        "# We need this dataset in order to use the tokenizer\n",
        "nltk.download('punkt')\n",
        "# Also download the list of stopwords to filter out\n",
        "nltk.download('stopwords')\n",
        "stemmer = PorterStemmer()\n",
        "\n",
        "# Add constants/paths\n",
        "_DATASETS_PATHS = '/content/drive/Shareddrives/ADA LUNATICS 2021/datasets'"
      ],
      "metadata": {
        "colab": {
          "base_uri": "https://localhost:8080/"
        },
        "id": "17jsFxAcMCpZ",
        "outputId": "8e082aaa-40e3-49ab-9640-31ac7733f12d"
      },
      "execution_count": 2,
      "outputs": [
        {
          "output_type": "stream",
          "name": "stdout",
          "text": [
            "Requirement already satisfied: tld in /usr/local/lib/python3.7/dist-packages (0.12.6)\n",
            "Requirement already satisfied: pandas==1.0.5 in /usr/local/lib/python3.7/dist-packages (1.0.5)\n",
            "Requirement already satisfied: numpy>=1.13.3 in /usr/local/lib/python3.7/dist-packages (from pandas==1.0.5) (1.19.5)\n",
            "Requirement already satisfied: pytz>=2017.2 in /usr/local/lib/python3.7/dist-packages (from pandas==1.0.5) (2018.9)\n",
            "Requirement already satisfied: python-dateutil>=2.6.1 in /usr/local/lib/python3.7/dist-packages (from pandas==1.0.5) (2.8.2)\n",
            "Requirement already satisfied: six>=1.5 in /usr/local/lib/python3.7/dist-packages (from python-dateutil>=2.6.1->pandas==1.0.5) (1.15.0)\n",
            "[nltk_data] Downloading package punkt to /root/nltk_data...\n",
            "[nltk_data]   Package punkt is already up-to-date!\n",
            "[nltk_data] Downloading package stopwords to /root/nltk_data...\n",
            "[nltk_data]   Package stopwords is already up-to-date!\n"
          ]
        }
      ]
    },
    {
      "cell_type": "code",
      "source": [
        "import re\n",
        "import nltk\n",
        "# We need this dataset in order to use the tokenizer\n",
        "nltk.download('punkt')\n",
        "from nltk.tokenize import word_tokenize\n",
        "# Also download the list of stopwords to filter out\n",
        "nltk.download('stopwords')\n",
        "from nltk.corpus import stopwords\n",
        "from nltk.stem.porter import PorterStemmer\n",
        "stemmer = PorterStemmer()\n",
        "\n",
        "def process_chunk(chunk, proc_function, keywords, save_path):\n",
        "    '''This function process a chunk of a dataset using the processing function given and save the preprocessed results to the path       given'''\n",
        "    print(f'Processing chunk with {len(chunk)} rows')\n",
        "    # Remove Phase and Num of occurences columns (not useful and redundant, respectively) to save memory\n",
        "    chunk.drop(['phase', 'numOccurrences'], axis=1)\n",
        "    # Apply the processing function\n",
        "    chunk = proc_function(chunk, keywords)\n",
        "    if len(chunk) > 0:\n",
        "        print(f'There are {len(chunk)} rows that include some of the keywords')\n",
        "        chunk['quotation'].to_csv(path_or_buf=save_path, compression='bz2', mode='a')\n",
        "    return chunk\n",
        "\n",
        "def manual_extraction(df, keywords):\n",
        "    '''This function extracts rows in which their quotes contain any of the keywords given.'''\n",
        "    results = df['quotation'].str.contains('|'.join(keywords))\n",
        "    indices = list(results[results == True].index)\n",
        "    return df.loc[indices,:]\n",
        "\n",
        "def parse_title(hostname, url, positions):  \n",
        "  try:\n",
        "    res = get_tld(url[2:-2], as_object=True)\n",
        " \n",
        "    if hostname in positions:\n",
        "        return res.parsed_url.path.split('/')[positions[hostname]]\n",
        "    else:\n",
        "        return 0\n",
        "  except:\n",
        "    pass\n",
        "    \n",
        "def get_hostname(urls): \n",
        "   result = []\n",
        "\n",
        "   list_urls = urls[1:-1].replace(\"'\", \"\").replace(\" \", \"\").split(\",\")\n",
        "   for url in list_urls:\n",
        "    parsed_url = urllib.parse.urlparse(url)\n",
        "    print(parsed_url)\n",
        "    result.append('{uri.scheme}://{uri.netloc}/'.format(uri=parsed_url))\n",
        "    #print('{uri.scheme}://{uri.netloc}/'.format(uri=parsed_url))\n",
        "   return result\n",
        "\n",
        "def process_text(text):\n",
        "    '''This function process the quotes by removing stopping words, lower casing all text and stemming them to their roots.'''\n",
        "    # Make all the strings lowercase and remove non alphabetic characters\n",
        "    text = re.sub('[^A-Za-z]', ' ', text.lower())\n",
        "\n",
        "    # Tokenize the text; this is, separate every sentence into a list of words\n",
        "    # Since the text is already split into sentences you don't have to call sent_tokenize\n",
        "    tokenized_text = word_tokenize(text)\n",
        "\n",
        "    # Remove the stopwords and stem each word to its root\n",
        "    clean_text = [\n",
        "        stemmer.stem(word) for word in tokenized_text\n",
        "        if word not in stopwords.words('english')\n",
        "    ]\n",
        "    # Remember, this final output is a list of words\n",
        "    return clean_text\n",
        "\n",
        "def ids_to_tweets(tweet_ids, api):\n",
        "    '''This function fetches tweets based on their IDs'''\n",
        "    counter = 0\n",
        "    ids = []\n",
        "\n",
        "    with open(tweet_ids, 'r') as txtfile:\n",
        "        lineReader = txtfile.readlines()\n",
        "        for row in lineReader:\n",
        "            ids.append(row)\n",
        "            \n",
        "    print(len(ids))\n",
        "    sleepTime = 2\n",
        "    tweets_data = {'tweet': [],\n",
        "                  'date': [],\n",
        "                  'location': []}\n",
        "\n",
        "    for id in ids[10000:20000]:\n",
        "        try:\n",
        "            tweetFetched = api.get_status(id)\n",
        "            tweets_data['tweet'] = tweetFetched.text\n",
        "            tweets_data['date'] = tweetFetched.created_at\n",
        "            tweets_data['location'] = tweetFetched.user.location\n",
        "            df = pd.DataFrame(tweets_data, index=[id])\n",
        "            # print('in')\n",
        "            df.to_csv(path_or_buf='/content/drive/Shareddrives/ADA LUNATICS 2021/datasets/tweets_data.csv.bz2',                   compression='bz2', mode='a')\n",
        "            # tweets_data['fav_count'].append(tweetFetched.retweeted_status.user.favourites_count)\n",
        "            time.sleep(sleepTime)\n",
        "\n",
        "        except Exception as e:\n",
        "            print(e)\n",
        "            counter += 1\n",
        "            time.sleep(sleepTime)\n",
        "            continue\n",
        "    print(counter)\n",
        "    # tweets_data = pd.DataFrame.from_dict(tweets_data)\n",
        "    return tweets_data\n",
        "\n",
        "def embedSentence(sentence, word_vectors):\n",
        "    '''This function maps the words in a scentence to their embeddings'''\n",
        "    embed = map(lambda x: embedding(x, word_vectors), sentence)\n",
        "    return list(embed)\n",
        "\n",
        "def embedding(word, word_vectors):\n",
        "    '''This function extracts word embeddings'''\n",
        "    try:\n",
        "        embed = word_vectors[word]\n",
        "    except Exception:\n",
        "        embed = word_vectors['unk']\n",
        "    return embed\n",
        "\n",
        "def averageEmbedding(sentence):\n",
        "    '''This function averages words embedding in a scentence to get one embedding for each scentence'''\n",
        "    average = np.mean(sentence, axis=0)\n",
        "    return average\n",
        "\n",
        "def featurize(sentence, dataframe, FeatureColumns):\n",
        "    '''This function creates a dataframe containing the embeddings in each column'''\n",
        "    sentence = pd.Series(sentence, index=FeatureColumns)\n",
        "    dataframe = dataframe.append(sentence, ignore_index=True)\n",
        "    return dataframe\n",
        "\n",
        "\n",
        "def plotWords(dataframe, fileCount=0):\n",
        "    '''This function plots the quotes (tSNE values) on a 2D Plane'''\n",
        "    plt.figure(num=None, figsize=(12,8), dpi=300)\n",
        "    ax = plt.subplot(111)\n",
        "    for i in range(dataframe.shape[0]):\n",
        "        plt.text(dataframe.iloc[i,0], dataframe.iloc[i,1], str(dataframe.iloc[i,2]),\n",
        "                color='blue',\n",
        "                fontdict={'weight': 'light', 'size':2})\n",
        "    \n",
        "    plt.axis('off')\n",
        "    plt.savefig(fname='plot'+str(fileCount), dpi=300)\n"
      ],
      "metadata": {
        "colab": {
          "base_uri": "https://localhost:8080/"
        },
        "id": "yU1NCyZyME-t",
        "outputId": "b41ccee5-8ea3-43a6-a8d3-afdf651abec0"
      },
      "execution_count": 3,
      "outputs": [
        {
          "output_type": "stream",
          "name": "stdout",
          "text": [
            "[nltk_data] Downloading package punkt to /root/nltk_data...\n",
            "[nltk_data]   Package punkt is already up-to-date!\n",
            "[nltk_data] Downloading package stopwords to /root/nltk_data...\n",
            "[nltk_data]   Package stopwords is already up-to-date!\n"
          ]
        }
      ]
    },
    {
      "cell_type": "markdown",
      "source": [
        "## <span style=\"color:black\"> Generating word clouds"
      ],
      "metadata": {
        "id": "bnANkADRMOwL"
      }
    },
    {
      "cell_type": "code",
      "source": [
        "# Save the datasets paths\n",
        "me_too_quotes_path = '/content/drive/Shareddrives/ADA LUNATICS 2021/datasets/metoo-extracted-quotes.csv.bz2'\n",
        "#Load the saved results from previous cell\n",
        "warnings.simplefilter(action='ignore', category=FutureWarning)\n",
        "df = pd.read_csv(me_too_quotes_path)\n",
        "df.drop(df[df == 'quotation'].index)\n",
        "df = df.drop(columns='Unnamed: 0')"
      ],
      "metadata": {
        "id": "JX1RYteIMWYd"
      },
      "execution_count": 19,
      "outputs": []
    },
    {
      "cell_type": "code",
      "source": [
        "#Create a word cloud from the extracted quotes\n",
        "df = df.quotation.str.replace('metoo', ' ')\n",
        "#Process texts in quotes\n",
        "cleaned_text = df.apply(process_text)\n",
        "#Join the different processed titles together.\n",
        "long_string = ','.join([text for text_list in cleaned_text.values for text in text_list])\n",
        "#Create a WordCloud object\n",
        "wordcloud = WordCloud(width = 800, height = 800, background_color=\"white\", max_words=1000, contour_width=3, contour_color='steelblue')\n",
        "#Generate a word cloud\n",
        "wordcloud.generate(long_string)\n",
        "#Visualize the word cloud\n",
        "wordcloud.to_image()\n",
        "wordcloud.to_file('Wordcloud.png')\n"
      ],
      "metadata": {
        "colab": {
          "base_uri": "https://localhost:8080/"
        },
        "id": "uYsGnA67NETM",
        "outputId": "3c3935b9-851b-4df2-a320-8f6335fef3a9"
      },
      "execution_count": 20,
      "outputs": [
        {
          "output_type": "execute_result",
          "data": {
            "text/plain": [
              "<wordcloud.wordcloud.WordCloud at 0x7f42784ecbd0>"
            ]
          },
          "metadata": {},
          "execution_count": 20
        }
      ]
    },
    {
      "cell_type": "code",
      "source": [
        "#Load the saved results from previous cell\n",
        "from PIL import Image\n",
        "mask = np.array(Image.open('/content/drive/Shareddrives/ADA LUNATICS 2021/Milestone3/fists-removebg-preview.png'))\n",
        "wc = WordCloud(mask=mask, width=1600 , height=1600, background_color=\"white\", max_words=1000, contour_width=3, contour_color='steelblue')\n",
        "#Generate a word cloud\n",
        "wc.generate(long_string)\n",
        "#Visualize the word cloud\n",
        "#wordcloud.to_image()\n",
        "plt.imshow(wc, interpolation=\"bilinear\")\n",
        "plt.axis('off')\n",
        "plt.savefig(\"word_fists.png\")\n",
        "\n",
        "plt.show()\n",
        "\n",
        "wc.to_file('wc.png')"
      ],
      "metadata": {
        "colab": {
          "base_uri": "https://localhost:8080/",
          "height": 634
        },
        "id": "e9XS47UmOHUy",
        "outputId": "fa411394-cdc2-46a1-fa66-4591ed711e12"
      },
      "execution_count": 24,
      "outputs": [
        {
          "output_type": "display_data",
          "data": {
            "image/png": "[encoded data removed]",
            "text/plain": [
              "<Figure size 432x288 with 1 Axes>"
            ]
          },
          "metadata": {
            "needs_background": "light"
          }
        },
        {
          "output_type": "error",
          "ename": "ValueError",
          "evalue": "ignored",
          "traceback": [
            "\u001b[0;31m---------------------------------------------------------------------------\u001b[0m",
            "\u001b[0;31mKeyError\u001b[0m                                  Traceback (most recent call last)",
            "\u001b[0;32m/usr/local/lib/python3.7/dist-packages/PIL/Image.py\u001b[0m in \u001b[0;36msave\u001b[0;34m(self, fp, format, **params)\u001b[0m\n\u001b[1;32m   2113\u001b[0m             \u001b[0;32mtry\u001b[0m\u001b[0;34m:\u001b[0m\u001b[0;34m\u001b[0m\u001b[0;34m\u001b[0m\u001b[0m\n\u001b[0;32m-> 2114\u001b[0;31m                 \u001b[0mformat\u001b[0m \u001b[0;34m=\u001b[0m \u001b[0mEXTENSION\u001b[0m\u001b[0;34m[\u001b[0m\u001b[0mext\u001b[0m\u001b[0;34m]\u001b[0m\u001b[0;34m\u001b[0m\u001b[0;34m\u001b[0m\u001b[0m\n\u001b[0m\u001b[1;32m   2115\u001b[0m             \u001b[0;32mexcept\u001b[0m \u001b[0mKeyError\u001b[0m\u001b[0;34m:\u001b[0m\u001b[0;34m\u001b[0m\u001b[0;34m\u001b[0m\u001b[0m\n",
            "\u001b[0;31mKeyError\u001b[0m: '.svg'",
            "\nDuring handling of the above exception, another exception occurred:\n",
            "\u001b[0;31mValueError\u001b[0m                                Traceback (most recent call last)",
            "\u001b[0;32m<ipython-input-24-018aae1a8af1>\u001b[0m in \u001b[0;36m<module>\u001b[0;34m()\u001b[0m\n\u001b[1;32m     13\u001b[0m \u001b[0mplt\u001b[0m\u001b[0;34m.\u001b[0m\u001b[0mshow\u001b[0m\u001b[0;34m(\u001b[0m\u001b[0;34m)\u001b[0m\u001b[0;34m\u001b[0m\u001b[0;34m\u001b[0m\u001b[0m\n\u001b[1;32m     14\u001b[0m \u001b[0;34m\u001b[0m\u001b[0m\n\u001b[0;32m---> 15\u001b[0;31m \u001b[0mwc\u001b[0m\u001b[0;34m.\u001b[0m\u001b[0mto_file\u001b[0m\u001b[0;34m(\u001b[0m\u001b[0;34m'wc.svg'\u001b[0m\u001b[0;34m)\u001b[0m\u001b[0;34m\u001b[0m\u001b[0;34m\u001b[0m\u001b[0m\n\u001b[0m",
            "\u001b[0;32m/usr/local/lib/python3.7/dist-packages/wordcloud/wordcloud.py\u001b[0m in \u001b[0;36mto_file\u001b[0;34m(self, filename)\u001b[0m\n\u001b[1;32m    690\u001b[0m \u001b[0;34m\u001b[0m\u001b[0m\n\u001b[1;32m    691\u001b[0m         \u001b[0mimg\u001b[0m \u001b[0;34m=\u001b[0m \u001b[0mself\u001b[0m\u001b[0;34m.\u001b[0m\u001b[0mto_image\u001b[0m\u001b[0;34m(\u001b[0m\u001b[0;34m)\u001b[0m\u001b[0;34m\u001b[0m\u001b[0;34m\u001b[0m\u001b[0m\n\u001b[0;32m--> 692\u001b[0;31m         \u001b[0mimg\u001b[0m\u001b[0;34m.\u001b[0m\u001b[0msave\u001b[0m\u001b[0;34m(\u001b[0m\u001b[0mfilename\u001b[0m\u001b[0;34m,\u001b[0m \u001b[0moptimize\u001b[0m\u001b[0;34m=\u001b[0m\u001b[0;32mTrue\u001b[0m\u001b[0;34m)\u001b[0m\u001b[0;34m\u001b[0m\u001b[0;34m\u001b[0m\u001b[0m\n\u001b[0m\u001b[1;32m    693\u001b[0m         \u001b[0;32mreturn\u001b[0m \u001b[0mself\u001b[0m\u001b[0;34m\u001b[0m\u001b[0;34m\u001b[0m\u001b[0m\n\u001b[1;32m    694\u001b[0m \u001b[0;34m\u001b[0m\u001b[0m\n",
            "\u001b[0;32m/usr/local/lib/python3.7/dist-packages/PIL/Image.py\u001b[0m in \u001b[0;36msave\u001b[0;34m(self, fp, format, **params)\u001b[0m\n\u001b[1;32m   2114\u001b[0m                 \u001b[0mformat\u001b[0m \u001b[0;34m=\u001b[0m \u001b[0mEXTENSION\u001b[0m\u001b[0;34m[\u001b[0m\u001b[0mext\u001b[0m\u001b[0;34m]\u001b[0m\u001b[0;34m\u001b[0m\u001b[0;34m\u001b[0m\u001b[0m\n\u001b[1;32m   2115\u001b[0m             \u001b[0;32mexcept\u001b[0m \u001b[0mKeyError\u001b[0m\u001b[0;34m:\u001b[0m\u001b[0;34m\u001b[0m\u001b[0;34m\u001b[0m\u001b[0m\n\u001b[0;32m-> 2116\u001b[0;31m                 \u001b[0;32mraise\u001b[0m \u001b[0mValueError\u001b[0m\u001b[0;34m(\u001b[0m\u001b[0;34m\"unknown file extension: {}\"\u001b[0m\u001b[0;34m.\u001b[0m\u001b[0mformat\u001b[0m\u001b[0;34m(\u001b[0m\u001b[0mext\u001b[0m\u001b[0;34m)\u001b[0m\u001b[0;34m)\u001b[0m\u001b[0;34m\u001b[0m\u001b[0;34m\u001b[0m\u001b[0m\n\u001b[0m\u001b[1;32m   2117\u001b[0m \u001b[0;34m\u001b[0m\u001b[0m\n\u001b[1;32m   2118\u001b[0m         \u001b[0;32mif\u001b[0m \u001b[0mformat\u001b[0m\u001b[0;34m.\u001b[0m\u001b[0mupper\u001b[0m\u001b[0;34m(\u001b[0m\u001b[0;34m)\u001b[0m \u001b[0;32mnot\u001b[0m \u001b[0;32min\u001b[0m \u001b[0mSAVE\u001b[0m\u001b[0;34m:\u001b[0m\u001b[0;34m\u001b[0m\u001b[0;34m\u001b[0m\u001b[0m\n",
            "\u001b[0;31mValueError\u001b[0m: unknown file extension: .svg"
          ]
        }
      ]
    },
    {
      "cell_type": "code",
      "source": [
        "#Filter the top words from word cloud using an arbitrarily threshold then sort them\n",
        "filtered_words = dict()\n",
        "#Iterate over all the items in dictionary\n",
        "for (key, value) in wordcloud.words_.items():\n",
        "    #Check if item satisfies the given condition then add to new dict\n",
        "    #Set an arbitrarily value to shorten the list\n",
        "    if value >= 0.15:\n",
        "        filtered_words[key] = value\n",
        "sorted_words = dict(sorted(filtered_words.items(), key=lambda kv: kv[1], reverse=True))\n",
        "\n",
        "\n",
        "#Visualize the mentions of the words generated from word cloud\n",
        "words = pd.DataFrame({'words': list(sorted_words.keys()), 'mentions ratio': list(sorted_words.values())})\n",
        "_, axis = plt.subplots(nrows=1, ncols=1, figsize=(20,15))\n",
        "ax = sns.barplot(x=\"words\", y=\"mentions ratio\", data=words, capsize=.5, ax=axis, palette=\"Blues_d\")\n",
        "ax.set_xlabel('Words', fontsize=15)\n",
        "ax.set_ylabel('Mentions Ratio', fontsize=15)\n",
        "ax.set_xticklabels(words['words'], rotation=45)\n",
        "ax.tick_params(axis='both', which='major', labelsize=15)"
      ],
      "metadata": {
        "colab": {
          "base_uri": "https://localhost:8080/",
          "height": 939
        },
        "id": "pZOViXd2PFeU",
        "outputId": "8eb8c90f-e576-42cd-f6fe-823febb75964"
      },
      "execution_count": 25,
      "outputs": [
        {
          "output_type": "display_data",
          "data": {
            "image/png": "[encoded data removed]",
            "text/plain": [
              "<Figure size 1440x1080 with 1 Axes>"
            ]
          },
          "metadata": {
            "needs_background": "light"
          }
        }
      ]
    },
    {
      "cell_type": "markdown",
      "source": [
        "## <span style=\"color:black\"> Generating sentence clouds\n"
      ],
      "metadata": {
        "id": "Iu4NuLqCSjla"
      }
    },
    {
      "cell_type": "code",
      "source": [
        "#The final keywords compiled\n",
        "keywords = ['movement', 'women', 'victim', 'campaign', 'sex', 'harass', 'assualt',\n",
        "           'rape', 'misconduct', 'metoo', 'timesup', 'abuse', 'workplace', 'right', 'femin']\n",
        "#Save the results from keywords extraction in this path\n",
        "keywords_quotes_path = '/content/drive/Shareddrives/ADA LUNATICS 2021/datasets/keywords-extracted-data.csv.bz2'"
      ],
      "metadata": {
        "id": "Ef4QnVgHTIrZ"
      },
      "execution_count": 4,
      "outputs": []
    },
    {
      "cell_type": "code",
      "source": [
        "#Load the manually extracted data based on keywords\n",
        "\n",
        "df = pd.read_csv(keywords_quotes_path, compression='bz2')\n",
        "df = df.drop(df[df['quotation'] == 'quotation'].index)\n",
        "df = df.drop(columns='Unnamed: 0')\n",
        "print(f'The number of quotes that contain some of the selected keywords: {len(df)}')\n",
        "df.head(10)"
      ],
      "metadata": {
        "colab": {
          "base_uri": "https://localhost:8080/",
          "height": 380
        },
        "id": "2igiux69UPBc",
        "outputId": "c99a0621-a2d9-46f3-cd9e-20fa4448ff21"
      },
      "execution_count": 5,
      "outputs": [
        {
          "output_type": "stream",
          "name": "stdout",
          "text": [
            "The number of quotes that contain some of the selected keywords: 6625708\n"
          ]
        },
        {
          "output_type": "execute_result",
          "data": {
            "text/html": [
              "<div>\n",
              "<style scoped>\n",
              "    .dataframe tbody tr th:only-of-type {\n",
              "        vertical-align: middle;\n",
              "    }\n",
              "\n",
              "    .dataframe tbody tr th {\n",
              "        vertical-align: top;\n",
              "    }\n",
              "\n",
              "    .dataframe thead th {\n",
              "        text-align: right;\n",
              "    }\n",
              "</style>\n",
              "<table border=\"1\" class=\"dataframe\">\n",
              "  <thead>\n",
              "    <tr style=\"text-align: right;\">\n",
              "      <th></th>\n",
              "      <th>quoteID</th>\n",
              "      <th>quotation</th>\n",
              "      <th>speaker</th>\n",
              "      <th>qids</th>\n",
              "      <th>date</th>\n",
              "      <th>probas</th>\n",
              "      <th>urls</th>\n",
              "    </tr>\n",
              "  </thead>\n",
              "  <tbody>\n",
              "    <tr>\n",
              "      <th>0</th>\n",
              "      <td>2015-08-31-000271</td>\n",
              "      <td>... a great day for veterans here in Littleton...</td>\n",
              "      <td>Jeanne Shaheen</td>\n",
              "      <td>['Q270316']</td>\n",
              "      <td>2015-08-31 02:10:00</td>\n",
              "      <td>[['Jeanne Shaheen', '0.742'], ['None', '0.2359...</td>\n",
              "      <td>['http://www.unionleader.com/article/20150831/...</td>\n",
              "    </tr>\n",
              "    <tr>\n",
              "      <th>1</th>\n",
              "      <td>2015-10-29-035215</td>\n",
              "      <td>how the greatest movement came into being and ...</td>\n",
              "      <td>None</td>\n",
              "      <td>[]</td>\n",
              "      <td>2015-10-29 21:25:14</td>\n",
              "      <td>[['None', '0.5458'], ['Paul Hawken', '0.4542']]</td>\n",
              "      <td>['https://medium.com/enspiral-tales/bioneers-d...</td>\n",
              "    </tr>\n",
              "    <tr>\n",
              "      <th>2</th>\n",
              "      <td>2015-10-25-000242</td>\n",
              "      <td>' It is not now, nor has it ever been, the gol...</td>\n",
              "      <td>Bernie Sanders</td>\n",
              "      <td>['Q359442']</td>\n",
              "      <td>2015-10-25 14:12:35</td>\n",
              "      <td>[['Bernie Sanders', '0.5395'], ['None', '0.312...</td>\n",
              "      <td>['http://examiner.com/article/bernie-sanders-s...</td>\n",
              "    </tr>\n",
              "    <tr>\n",
              "      <th>3</th>\n",
              "      <td>2015-10-17-000460</td>\n",
              "      <td>[ This is ] defamation. I'm hitting back. [ Me...</td>\n",
              "      <td>Meghan King Edmonds</td>\n",
              "      <td>['Q20684375']</td>\n",
              "      <td>2015-10-17 13:35:01</td>\n",
              "      <td>[['Meghan King Edmonds', '0.7414'], ['None', '...</td>\n",
              "      <td>['http://www.inquisitr.com/2500312/vicki-gunva...</td>\n",
              "    </tr>\n",
              "    <tr>\n",
              "      <th>4</th>\n",
              "      <td>2015-09-04-030275</td>\n",
              "      <td>I ain't going nowhere. I'm going to be right h...</td>\n",
              "      <td>Letroy Guion</td>\n",
              "      <td>['Q13219370']</td>\n",
              "      <td>2015-09-04 12:36:42</td>\n",
              "      <td>[['Letroy Guion', '0.7119'], ['None', '0.2804'...</td>\n",
              "      <td>['http://www.channel3000.com/sports/packers/Pa...</td>\n",
              "    </tr>\n",
              "    <tr>\n",
              "      <th>5</th>\n",
              "      <td>2015-12-01-033189</td>\n",
              "      <td>I am confident enough, optimistic enough to sa...</td>\n",
              "      <td>Frank-Walter Steinmeier</td>\n",
              "      <td>['Q76658']</td>\n",
              "      <td>2015-12-01 08:47:00</td>\n",
              "      <td>[['Frank-Walter Steinmeier', '0.6923'], ['Mr H...</td>\n",
              "      <td>['http://express.co.uk/news/politics/623296/EU...</td>\n",
              "    </tr>\n",
              "    <tr>\n",
              "      <th>6</th>\n",
              "      <td>2015-02-03-000382</td>\n",
              "      <td>A careful analysis of the career histories of ...</td>\n",
              "      <td>Lisa Mainiero</td>\n",
              "      <td>['Q53121229']</td>\n",
              "      <td>2015-02-03 17:22:00</td>\n",
              "      <td>[['Lisa Mainiero', '0.9511'], ['None', '0.0489']]</td>\n",
              "      <td>['http://www.forbes.com/sites/bonniemarcus/201...</td>\n",
              "    </tr>\n",
              "    <tr>\n",
              "      <th>7</th>\n",
              "      <td>2015-01-27-023512</td>\n",
              "      <td>I am honored and proud to raise awareness for ...</td>\n",
              "      <td>Joe Haden</td>\n",
              "      <td>['Q733737']</td>\n",
              "      <td>2015-01-27 13:25:00</td>\n",
              "      <td>[['Joe Haden', '0.5859'], ['None', '0.3302'], ...</td>\n",
              "      <td>['http://www.istockanalyst.com/article/viewart...</td>\n",
              "    </tr>\n",
              "    <tr>\n",
              "      <th>8</th>\n",
              "      <td>2015-09-10-001454</td>\n",
              "      <td>A couple bumps and bruises, but all right.</td>\n",
              "      <td>James Blake</td>\n",
              "      <td>['Q350362', 'Q53333']</td>\n",
              "      <td>2015-09-10 06:31:35</td>\n",
              "      <td>[['James Blake', '0.7538'], ['None', '0.2422']...</td>\n",
              "      <td>['http://rss.cnn.com/c/35494/f/676993/s/49bd29...</td>\n",
              "    </tr>\n",
              "    <tr>\n",
              "      <th>9</th>\n",
              "      <td>2015-09-23-032351</td>\n",
              "      <td>I am proud that once again I got to fly the So...</td>\n",
              "      <td>President Barack Obama</td>\n",
              "      <td>['Q76']</td>\n",
              "      <td>2015-09-23 06:04:06</td>\n",
              "      <td>[['President Barack Obama', '0.6547'], ['None'...</td>\n",
              "      <td>['http://www.bdlive.co.za/business/management/...</td>\n",
              "    </tr>\n",
              "  </tbody>\n",
              "</table>\n",
              "</div>"
            ],
            "text/plain": [
              "             quoteID  ...                                               urls\n",
              "0  2015-08-31-000271  ...  ['http://www.unionleader.com/article/20150831/...\n",
              "1  2015-10-29-035215  ...  ['https://medium.com/enspiral-tales/bioneers-d...\n",
              "2  2015-10-25-000242  ...  ['http://examiner.com/article/bernie-sanders-s...\n",
              "3  2015-10-17-000460  ...  ['http://www.inquisitr.com/2500312/vicki-gunva...\n",
              "4  2015-09-04-030275  ...  ['http://www.channel3000.com/sports/packers/Pa...\n",
              "5  2015-12-01-033189  ...  ['http://express.co.uk/news/politics/623296/EU...\n",
              "6  2015-02-03-000382  ...  ['http://www.forbes.com/sites/bonniemarcus/201...\n",
              "7  2015-01-27-023512  ...  ['http://www.istockanalyst.com/article/viewart...\n",
              "8  2015-09-10-001454  ...  ['http://rss.cnn.com/c/35494/f/676993/s/49bd29...\n",
              "9  2015-09-23-032351  ...  ['http://www.bdlive.co.za/business/management/...\n",
              "\n",
              "[10 rows x 7 columns]"
            ]
          },
          "metadata": {},
          "execution_count": 5
        }
      ]
    },
    {
      "cell_type": "code",
      "source": [
        "def plotWords(dataframe, fileCount=0):\n",
        "    '''This function plots the quotes (tSNE values) on a 2D Plane'''\n",
        "    plt.figure(num=None, figsize=(12,8), dpi=300)\n",
        "    ax = plt.subplot(111)\n",
        "    for i in range(dataframe.shape[0]):\n",
        "        plt.text(dataframe.iloc[i,0], dataframe.iloc[i,1], str(dataframe.iloc[i,2]),\n",
        "                color='blue',\n",
        "                fontdict={'weight': 'light', 'size':2})\n",
        "    \n",
        "    plt.axis('off')\n",
        "    plt.savefig(fname='plot'+str(fileCount), dpi=300)"
      ],
      "metadata": {
        "id": "z-LCygW2WEfH"
      },
      "execution_count": 6,
      "outputs": []
    },
    {
      "cell_type": "code",
      "source": [
        "#Scale between 0 and 1\n",
        "scaler = MinMaxScaler()\n",
        "data = pd.DataFrame(df.quotation.sample(100))\n",
        "data[\"xpos\"] =  np.random.randint(0,20,100).tolist()\n",
        "data[\"ypos\"] = np.random.randint(0,20,100).tolist()\n",
        "data = data[[\"xpos\", \"ypos\", \"quotation\"]]\n",
        "plotWords(data,fileCount=1 )"
      ],
      "metadata": {
        "id": "0q_UFww2S3NR"
      },
      "execution_count": null,
      "outputs": []
    },
    {
      "cell_type": "code",
      "source": [
        "data = data[[\"xpos\", \"ypos\", \"quotation\"]]\n",
        "data"
      ],
      "metadata": {
        "colab": {
          "base_uri": "https://localhost:8080/",
          "height": 423
        },
        "id": "GQezTIz5XNPg",
        "outputId": "353a6b47-80a3-441d-ccf2-2cce791d8dc7"
      },
      "execution_count": 55,
      "outputs": [
        {
          "output_type": "execute_result",
          "data": {
            "text/html": [
              "<div>\n",
              "<style scoped>\n",
              "    .dataframe tbody tr th:only-of-type {\n",
              "        vertical-align: middle;\n",
              "    }\n",
              "\n",
              "    .dataframe tbody tr th {\n",
              "        vertical-align: top;\n",
              "    }\n",
              "\n",
              "    .dataframe thead th {\n",
              "        text-align: right;\n",
              "    }\n",
              "</style>\n",
              "<table border=\"1\" class=\"dataframe\">\n",
              "  <thead>\n",
              "    <tr style=\"text-align: right;\">\n",
              "      <th></th>\n",
              "      <th>xpos</th>\n",
              "      <th>ypos</th>\n",
              "      <th>quotation</th>\n",
              "    </tr>\n",
              "  </thead>\n",
              "  <tbody>\n",
              "    <tr>\n",
              "      <th>2597841</th>\n",
              "      <td>37</td>\n",
              "      <td>28</td>\n",
              "      <td>Hunger doesn't take a break and neither do we ...</td>\n",
              "    </tr>\n",
              "    <tr>\n",
              "      <th>2056370</th>\n",
              "      <td>43</td>\n",
              "      <td>66</td>\n",
              "      <td>She is the right leader to take on such a task.</td>\n",
              "    </tr>\n",
              "    <tr>\n",
              "      <th>3582026</th>\n",
              "      <td>85</td>\n",
              "      <td>72</td>\n",
              "      <td>His groundbreaking work not only helped shape ...</td>\n",
              "    </tr>\n",
              "    <tr>\n",
              "      <th>5903523</th>\n",
              "      <td>46</td>\n",
              "      <td>57</td>\n",
              "      <td>People don't know the history of those times, ...</td>\n",
              "    </tr>\n",
              "    <tr>\n",
              "      <th>4502679</th>\n",
              "      <td>59</td>\n",
              "      <td>94</td>\n",
              "      <td>a feminist for due process,</td>\n",
              "    </tr>\n",
              "    <tr>\n",
              "      <th>...</th>\n",
              "      <td>...</td>\n",
              "      <td>...</td>\n",
              "      <td>...</td>\n",
              "    </tr>\n",
              "    <tr>\n",
              "      <th>4146712</th>\n",
              "      <td>29</td>\n",
              "      <td>34</td>\n",
              "      <td>I've been doing this for 40 years now, I've re...</td>\n",
              "    </tr>\n",
              "    <tr>\n",
              "      <th>5372813</th>\n",
              "      <td>50</td>\n",
              "      <td>45</td>\n",
              "      <td>It didn't matter who the victims were,</td>\n",
              "    </tr>\n",
              "    <tr>\n",
              "      <th>2500732</th>\n",
              "      <td>37</td>\n",
              "      <td>94</td>\n",
              "      <td>It just makes it that much more difficult for ...</td>\n",
              "    </tr>\n",
              "    <tr>\n",
              "      <th>4843075</th>\n",
              "      <td>57</td>\n",
              "      <td>89</td>\n",
              "      <td>and today I can't tell you how many victims th...</td>\n",
              "    </tr>\n",
              "    <tr>\n",
              "      <th>2177325</th>\n",
              "      <td>25</td>\n",
              "      <td>93</td>\n",
              "      <td>We need to look at that very carefully, and to...</td>\n",
              "    </tr>\n",
              "  </tbody>\n",
              "</table>\n",
              "<p>100 rows × 3 columns</p>\n",
              "</div>"
            ],
            "text/plain": [
              "         xpos  ypos                                          quotation\n",
              "2597841    37    28  Hunger doesn't take a break and neither do we ...\n",
              "2056370    43    66    She is the right leader to take on such a task.\n",
              "3582026    85    72  His groundbreaking work not only helped shape ...\n",
              "5903523    46    57  People don't know the history of those times, ...\n",
              "4502679    59    94                        a feminist for due process,\n",
              "...       ...   ...                                                ...\n",
              "4146712    29    34  I've been doing this for 40 years now, I've re...\n",
              "5372813    50    45             It didn't matter who the victims were,\n",
              "2500732    37    94  It just makes it that much more difficult for ...\n",
              "4843075    57    89  and today I can't tell you how many victims th...\n",
              "2177325    25    93  We need to look at that very carefully, and to...\n",
              "\n",
              "[100 rows x 3 columns]"
            ]
          },
          "metadata": {},
          "execution_count": 55
        }
      ]
    },
    {
      "cell_type": "code",
      "source": [
        "\n",
        "#data = scaler.fit_transform(tsneDF.iloc[:, [0,1]])\n",
        "#Plot the tSNE values woth their corresponding scentences\n",
        "#tsneDF.iloc[:, [0,1]] = data\n",
        "plotWords(data)"
      ],
      "metadata": {
        "id": "cLEVKBMRWjlv"
      },
      "execution_count": null,
      "outputs": []
    }
  ]
}