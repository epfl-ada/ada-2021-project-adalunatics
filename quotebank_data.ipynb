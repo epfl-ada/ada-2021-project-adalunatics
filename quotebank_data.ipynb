{
 "cells": [
  {
   "cell_type": "code",
   "execution_count": 1,
   "id": "62e63316-0b41-41d8-a26c-279e76b92a23",
   "metadata": {},
   "outputs": [],
   "source": [
    "#Import packages\n",
    "import os\n",
    "import pickle\n",
    "import json\n",
    "\n",
    "import numpy as np\n",
    "import pandas as pd\n",
    "\n",
    "import matplotlib.pyplot as plt\n",
    "import seaborn as sns\n",
    "\n",
    "#Define Constants\n",
    "_DATA = 'quotes_data.json'"
   ]
  },
  {
   "cell_type": "code",
   "execution_count": 2,
   "id": "577c75ee-daa4-4cd2-834f-2f54fa1bedd7",
   "metadata": {},
   "outputs": [],
   "source": [
    "import csv\n",
    "import time"
   ]
  },
  {
   "cell_type": "code",
   "execution_count": 16,
   "id": "f8a804a4-3b08-4b6c-a751-e4e13bf90a35",
   "metadata": {},
   "outputs": [],
   "source": [
    "def ids_to_tweets(tweet_ids, api):\n",
    "    counter = 0\n",
    "    ids = []\n",
    "\n",
    "    with open(tweet_ids, 'r') as txtfile:\n",
    "        lineReader = txtfile.readlines()\n",
    "        for row in lineReader:\n",
    "            ids.append(row)\n",
    "            \n",
    "\n",
    "    sleepTime = 2\n",
    "    tweets_data = {'tweet': [],\n",
    "                  'date': [],\n",
    "                  'location': [],\n",
    "                  'fav_count': []}\n",
    "\n",
    "    for id in ids:\n",
    "        try:\n",
    "            tweetFetched = api.get_status(id)\n",
    "            tweets_data['tweet'].append(tweetFetched.text)\n",
    "            tweets_data['date'].append(tweetFetched.created_at)\n",
    "            tweets_data['location'].append(tweetFetched.user.location)\n",
    "            tweets_data['fav_count'].append(tweetFetched.retweeted_status.user.favourites_count)\n",
    "            time.sleep(sleepTime)\n",
    "\n",
    "        except:\n",
    "            counter += 1\n",
    "            continue\n",
    "    print(counter)\n",
    "    return tweets_data"
   ]
  },
  {
   "cell_type": "code",
   "execution_count": null,
   "id": "3a032c30-8dd4-4360-838d-730e38fc591e",
   "metadata": {},
   "outputs": [],
   "source": [
    "tweets_data = ids_to_tweets('metoo_project_full_dataset_01.txt', api)"
   ]
  },
  {
   "cell_type": "code",
   "execution_count": null,
   "id": "5b35cd40-6661-4253-82b2-e96ecab7cadb",
   "metadata": {},
   "outputs": [],
   "source": []
  },
  {
   "cell_type": "code",
   "execution_count": 9,
   "id": "66d0b83a-5bb3-4d03-b35e-c5494f9176e8",
   "metadata": {},
   "outputs": [],
   "source": [
    "#This code creates the dataset from Corpus.csv which is downloadable from the\n",
    "#internet well known dataset which is labeled manually by hand. But for the text\n",
    "#of tweets you need to fetch them with their IDs.\n",
    "import tweepy\n",
    "\n",
    "# Twitter Developer keys here\n",
    "# It is CENSORED\n",
    "consumer_key = 'NTzTHBeXmtuLiurddtRhyvA5x'\n",
    "consumer_key_secret = 'o4AhlY4tnTg4heGFSkttAa2w5CIiHhXaerckfu0sIaLAXpPEvm'\n",
    "access_token = '1456399642103517184-N6FBPIuzHvj5AjUBiIaFDqlcP6kWc6'\n",
    "access_token_secret = 'kOoQy5iyBd2I7ZIlo4ntPtex9lDps8KVTlvRDl3fyhHs7'\n",
    "\n",
    "auth = tweepy.OAuthHandler(consumer_key, consumer_key_secret)\n",
    "auth.set_access_token(access_token, access_token_secret)\n",
    "api = tweepy.API(auth)"
   ]
  },
  {
   "cell_type": "code",
   "execution_count": 10,
   "id": "451e493d-2b8f-48fd-a6aa-d5d0091e6da9",
   "metadata": {},
   "outputs": [],
   "source": [
    "user = api.get_status(1074390894835576832)"
   ]
  },
  {
   "cell_type": "code",
   "execution_count": 11,
   "id": "f7b11372-03bd-41dc-8578-1998a4e8faa4",
   "metadata": {},
   "outputs": [
    {
     "data": {
      "text/plain": [
       "3568"
      ]
     },
     "execution_count": 11,
     "metadata": {},
     "output_type": "execute_result"
    }
   ],
   "source": [
    "user.retweeted_status.user.favourites_count"
   ]
  },
  {
   "cell_type": "code",
   "execution_count": 25,
   "id": "43dfa0dc-8ad3-48ce-9db5-5fa9ca60bb7a",
   "metadata": {},
   "outputs": [],
   "source": [
    "\n",
    "json_data = user._json\n",
    "\n",
    "df = pd.json_normalize(json_data)"
   ]
  },
  {
   "cell_type": "code",
   "execution_count": 29,
   "id": "8d79f6ee-0f27-4359-a625-ba3a04baa37f",
   "metadata": {},
   "outputs": [],
   "source": [
    "df.to_csv('data.csv')"
   ]
  },
  {
   "cell_type": "code",
   "execution_count": null,
   "id": "eb1c8d6e-8107-492f-af7c-ed8ec58ec74e",
   "metadata": {},
   "outputs": [],
   "source": [
    "# Code starts here\n",
    "# This is corpus dataset\n",
    "corpusFile = \"datasets/corpus.csv\"\n",
    "# This is my target file\n",
    "targetResultFile = \"datasets/targetResultFile.csv\"\n",
    "# Call the method\n",
    "resultFile = createTrainingSet(corpusFile, targetResultFile)"
   ]
  },
  {
   "cell_type": "code",
   "execution_count": null,
   "id": "ec85bfe5-5e04-4907-9010-2d90fa8ea0fa",
   "metadata": {},
   "outputs": [],
   "source": []
  },
  {
   "cell_type": "code",
   "execution_count": null,
   "id": "c3d5e572-dae0-435d-93e8-d2479b5cea73",
   "metadata": {},
   "outputs": [],
   "source": [
    "\n",
    "# import the module\n",
    "import tweepy\n",
    "  \n",
    "# assign the values accordingly\n",
    "consumer_key = \"\"\n",
    "consumer_secret = \"\"\n",
    "access_token = \"\"\n",
    "access_token_secret = \"\"\n",
    "  \n",
    "# authorization of consumer key and consumer secret\n",
    "auth = tweepy.OAuthHandler(consumer_key, consumer_secret)\n",
    "  \n",
    "# set access to user's access key and access secret \n",
    "auth.set_access_token(access_token, access_token_secret)\n",
    "  \n",
    "# calling the api \n",
    "api = tweepy.API(auth)\n",
    "  \n",
    "# the ID of the status\n",
    "id = 1272771459249844224\n",
    "  \n",
    "# fetching the status\n",
    "user = api.get_status(id)\n",
    "  \n",
    "# fetching the created_at attribute\n",
    "created_at = status.created_at \n",
    "  \n",
    "print(\"The status was created at : \" + str(created_at))"
   ]
  }
 ],
 "metadata": {
  "kernelspec": {
   "display_name": "Python 3 (ipykernel)",
   "language": "python",
   "name": "python3"
  },
  "language_info": {
   "codemirror_mode": {
    "name": "ipython",
    "version": 3
   },
   "file_extension": ".py",
   "mimetype": "text/x-python",
   "name": "python",
   "nbconvert_exporter": "python",
   "pygments_lexer": "ipython3",
   "version": "3.8.11"
  }
 },
 "nbformat": 4,
 "nbformat_minor": 5
}
