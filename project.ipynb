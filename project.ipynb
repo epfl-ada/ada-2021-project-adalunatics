{
  "nbformat": 4,
  "nbformat_minor": 0,
  "metadata": {
    "colab": {
      "name": "project.ipynb",
      "provenance": []
    },
    "kernelspec": {
      "name": "python3",
      "display_name": "Python 3"
    },
    "language_info": {
      "name": "python"
    }
  },
  "cells": [
    {
      "cell_type": "markdown",
      "metadata": {
        "id": "Lhx6rgnN707Q"
      },
      "source": [
        "Mount drive to notebook"
      ]
    },
    {
      "cell_type": "code",
      "metadata": {
        "colab": {
          "base_uri": "https://localhost:8080/"
        },
        "id": "sW_us8hf7dYG",
        "outputId": "8e77ed56-0555-47f8-f31b-0a63fd668044"
      },
      "source": [
        "from google.colab import drive\n",
        "drive.mount('/content/drive')"
      ],
      "execution_count": 1,
      "outputs": [
        {
          "output_type": "stream",
          "name": "stdout",
          "text": [
            "Mounted at /content/drive\n"
          ]
        }
      ]
    },
    {
      "cell_type": "markdown",
      "metadata": {
        "id": "tv1aGtHU8Bby"
      },
      "source": [
        "Install needed packages"
      ]
    },
    {
      "cell_type": "code",
      "metadata": {
        "colab": {
          "base_uri": "https://localhost:8080/"
        },
        "id": "UF91Gqe27gj0",
        "outputId": "ec2b5b38-52d7-48d0-e8ca-6c69173c0fb8"
      },
      "source": [
        "!pip install tld\n",
        "import bz2\n",
        "import json\n",
        "from urllib.request import urlopen\n",
        "from bs4 import BeautifulSoup\n",
        "import glob"
      ],
      "execution_count": 9,
      "outputs": [
        {
          "output_type": "stream",
          "name": "stdout",
          "text": [
            "Requirement already satisfied: tld in /usr/local/lib/python3.7/dist-packages (0.12.6)\n"
          ]
        }
      ]
    },
    {
      "cell_type": "markdown",
      "metadata": {
        "id": "co-rI0TA8Fw6"
      },
      "source": [
        "Add constants"
      ]
    },
    {
      "cell_type": "code",
      "metadata": {
        "colab": {
          "base_uri": "https://localhost:8080/"
        },
        "id": "CIhtlTQV7mwU",
        "outputId": "c1a25de4-be59-4926-e162-1de9fbd13aa3"
      },
      "source": [
        "path_to_datsets = '/content/drive/Shareddrives/ADA LUNATICS 2021/datasets/Quotebank'\n",
        "quote_datasets = sorted(glob.glob(path_to_datsets+'/*.bz2'))\n",
        "quote_datasets"
      ],
      "execution_count": 12,
      "outputs": [
        {
          "output_type": "execute_result",
          "data": {
            "text/plain": [
              "['/content/drive/Shareddrives/ADA LUNATICS 2021/datasets/Quotebank/quotes-2015.json.bz2',\n",
              " '/content/drive/Shareddrives/ADA LUNATICS 2021/datasets/Quotebank/quotes-2016.json.bz2',\n",
              " '/content/drive/Shareddrives/ADA LUNATICS 2021/datasets/Quotebank/quotes-2017.json.bz2',\n",
              " '/content/drive/Shareddrives/ADA LUNATICS 2021/datasets/Quotebank/quotes-2018.json.bz2',\n",
              " '/content/drive/Shareddrives/ADA LUNATICS 2021/datasets/Quotebank/quotes-2019.json.bz2',\n",
              " '/content/drive/Shareddrives/ADA LUNATICS 2021/datasets/Quotebank/quotes-2020.json.bz2']"
            ]
          },
          "metadata": {},
          "execution_count": 12
        }
      ]
    },
    {
      "cell_type": "code",
      "metadata": {
        "id": "Ya8LNYoDCgjE"
      },
      "source": [
        "from tld import get_tld\n",
        "\n",
        "def get_domain(url):\n",
        "    res = get_tld(url, as_object=True)\n",
        "    return res.parsed_url\n"
      ],
      "execution_count": 40,
      "outputs": []
    },
    {
      "cell_type": "markdown",
      "metadata": {
        "id": "mjigfK4F8U_G"
      },
      "source": [
        "Parse article title from urls from data"
      ]
    },
    {
      "cell_type": "code",
      "metadata": {
        "colab": {
          "base_uri": "https://localhost:8080/"
        },
        "id": "LWwZm86Q8cgJ",
        "outputId": "ea7454cf-0326-48b8-fb86-fb0bace0f0ec"
      },
      "source": [
        "with bz2.open(quote_datasets[3], 'rb') as s_file:\n",
        "  # target url\n",
        "  for instance in s_file:\n",
        "    instance = json.loads(instance) # loading a sample\n",
        "    urls = instance['urls'] # extracting list of links\n",
        "    print(urls)\n",
        "    domains = []\n",
        "    for url in urls:\n",
        "        tld = get_domain(url)\n",
        "        domains.append(tld)\n",
        "        print(tld.path)\n",
        "    break\n",
        "  \n",
        "# # displaying the title\n",
        "# print(\"Title of the website is : \")\n",
        "# print (soup.title.get_text())"
      ],
      "execution_count": 43,
      "outputs": [
        {
          "output_type": "stream",
          "name": "stdout",
          "text": [
            "['http://www.santacruzsentinel.com/environment-and-nature/20180630/dan-haifley-our-ocean-backyard-beach-cleanups-fight-plastic-pollution', 'http://www.santacruzsentinel.com/environment-and-nature/20180630/dan-haifley-our-ocean-backyard-cbeach-cleanups-fight-plastic-pollution', 'https://www.santacruzsentinel.com/2019/02/23/circular-living-for-the-sea-dan-haifley-our-ocean-backyard/']\n",
            "/environment-and-nature/20180630/dan-haifley-our-ocean-backyard-beach-cleanups-fight-plastic-pollution\n",
            "/environment-and-nature/20180630/dan-haifley-our-ocean-backyard-cbeach-cleanups-fight-plastic-pollution\n",
            "/2019/02/23/circular-living-for-the-sea-dan-haifley-our-ocean-backyard/\n"
          ]
        }
      ]
    },
    {
      "cell_type": "code",
      "metadata": {
        "id": "n699y9vp-tTR"
      },
      "source": [
        ""
      ],
      "execution_count": null,
      "outputs": []
    },
    {
      "cell_type": "code",
      "metadata": {
        "id": "V2nkGu0TAQJ0"
      },
      "source": [
        ""
      ],
      "execution_count": null,
      "outputs": []
    }
  ]
}