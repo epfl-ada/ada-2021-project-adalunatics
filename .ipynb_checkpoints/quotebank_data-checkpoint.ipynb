{
 "cells": [
  {
   "cell_type": "code",
   "execution_count": 1,
   "id": "62e63316-0b41-41d8-a26c-279e76b92a23",
   "metadata": {},
   "outputs": [],
   "source": [
    "#Import packages\n",
    "import os\n",
    "import pickle\n",
    "import json\n",
    "\n",
    "import numpy as np\n",
    "import pandas as pd\n",
    "\n",
    "import matplotlib.pyplot as plt\n",
    "import seaborn as sns\n",
    "\n",
    "#Define Constants\n",
    "_DATA = 'quotes_data.json'"
   ]
  },
  {
   "cell_type": "code",
   "execution_count": 2,
   "id": "3c2718cb-c1d0-4a0d-80b3-c90fb1d1f6a5",
   "metadata": {},
   "outputs": [],
   "source": [
    "#Load data\n",
    "#Change it to your path and change the function to the one in HW1 (uncompressed)\n",
    "df = pd.read_json(_DATA, lines=True)"
   ]
  },
  {
   "cell_type": "code",
   "execution_count": 3,
   "id": "fe046cba-e8d5-4d35-975b-dd9f09fd7c83",
   "metadata": {},
   "outputs": [
    {
     "data": {
      "text/html": [
       "<div>\n",
       "<style scoped>\n",
       "    .dataframe tbody tr th:only-of-type {\n",
       "        vertical-align: middle;\n",
       "    }\n",
       "\n",
       "    .dataframe tbody tr th {\n",
       "        vertical-align: top;\n",
       "    }\n",
       "\n",
       "    .dataframe thead th {\n",
       "        text-align: right;\n",
       "    }\n",
       "</style>\n",
       "<table border=\"1\" class=\"dataframe\">\n",
       "  <thead>\n",
       "    <tr style=\"text-align: right;\">\n",
       "      <th></th>\n",
       "      <th>quoteID</th>\n",
       "      <th>quotation</th>\n",
       "      <th>speaker</th>\n",
       "      <th>qids</th>\n",
       "      <th>date</th>\n",
       "      <th>numOccurrences</th>\n",
       "      <th>probas</th>\n",
       "      <th>urls</th>\n",
       "      <th>phase</th>\n",
       "    </tr>\n",
       "  </thead>\n",
       "  <tbody>\n",
       "    <tr>\n",
       "      <th>0</th>\n",
       "      <td>2019-04-17-024782</td>\n",
       "      <td>It is not a low-income immigration,</td>\n",
       "      <td>James Fisher</td>\n",
       "      <td>[Q16213953, Q20707104, Q43143598, Q58886302, Q...</td>\n",
       "      <td>2019-04-17 13:31:18</td>\n",
       "      <td>1</td>\n",
       "      <td>[[James Fisher, 0.7475], [None, 0.2525]]</td>\n",
       "      <td>[https://www.nytimes.com/2019/04/17/realestate...</td>\n",
       "      <td>E</td>\n",
       "    </tr>\n",
       "    <tr>\n",
       "      <th>1</th>\n",
       "      <td>2019-04-02-001128</td>\n",
       "      <td>a champion figure skater switching to roller s...</td>\n",
       "      <td>John Updike</td>\n",
       "      <td>[Q105756]</td>\n",
       "      <td>2019-04-02 14:58:33</td>\n",
       "      <td>2</td>\n",
       "      <td>[[John Updike, 0.5856], [None, 0.4144]]</td>\n",
       "      <td>[https://www.nytimes.com/2019/04/02/opinion/vl...</td>\n",
       "      <td>E</td>\n",
       "    </tr>\n",
       "    <tr>\n",
       "      <th>2</th>\n",
       "      <td>2019-05-09-055187</td>\n",
       "      <td>It makes it much more difficult for him to mak...</td>\n",
       "      <td>None</td>\n",
       "      <td>[]</td>\n",
       "      <td>2019-05-09 18:11:29</td>\n",
       "      <td>1</td>\n",
       "      <td>[[None, 0.6493], [President Bill Clinton, 0.27...</td>\n",
       "      <td>[http://mobile.nytimes.com/2019/05/09/world/as...</td>\n",
       "      <td>E</td>\n",
       "    </tr>\n",
       "    <tr>\n",
       "      <th>3</th>\n",
       "      <td>2019-10-31-056366</td>\n",
       "      <td>It puts me in a predicament,</td>\n",
       "      <td>Xavier Becerra</td>\n",
       "      <td>[Q1855840]</td>\n",
       "      <td>2019-10-31 16:45:15</td>\n",
       "      <td>3</td>\n",
       "      <td>[[Xavier Becerra, 0.9065], [None, 0.0909], [St...</td>\n",
       "      <td>[http://www.nytimes.com/2019/10/31/technology/...</td>\n",
       "      <td>E</td>\n",
       "    </tr>\n",
       "    <tr>\n",
       "      <th>4</th>\n",
       "      <td>2019-01-04-001792</td>\n",
       "      <td>A Pile of Leaves.</td>\n",
       "      <td>None</td>\n",
       "      <td>[]</td>\n",
       "      <td>2019-01-04 10:00:07</td>\n",
       "      <td>1</td>\n",
       "      <td>[[None, 0.8737], [Jason Fulford, 0.1263]]</td>\n",
       "      <td>[https://www.nytimes.com/2019/01/04/books/revi...</td>\n",
       "      <td>E</td>\n",
       "    </tr>\n",
       "  </tbody>\n",
       "</table>\n",
       "</div>"
      ],
      "text/plain": [
       "             quoteID                                          quotation  \\\n",
       "0  2019-04-17-024782                It is not a low-income immigration,   \n",
       "1  2019-04-02-001128  a champion figure skater switching to roller s...   \n",
       "2  2019-05-09-055187  It makes it much more difficult for him to mak...   \n",
       "3  2019-10-31-056366                       It puts me in a predicament,   \n",
       "4  2019-01-04-001792                                  A Pile of Leaves.   \n",
       "\n",
       "          speaker                                               qids  \\\n",
       "0    James Fisher  [Q16213953, Q20707104, Q43143598, Q58886302, Q...   \n",
       "1     John Updike                                          [Q105756]   \n",
       "2            None                                                 []   \n",
       "3  Xavier Becerra                                         [Q1855840]   \n",
       "4            None                                                 []   \n",
       "\n",
       "                 date  numOccurrences  \\\n",
       "0 2019-04-17 13:31:18               1   \n",
       "1 2019-04-02 14:58:33               2   \n",
       "2 2019-05-09 18:11:29               1   \n",
       "3 2019-10-31 16:45:15               3   \n",
       "4 2019-01-04 10:00:07               1   \n",
       "\n",
       "                                              probas  \\\n",
       "0           [[James Fisher, 0.7475], [None, 0.2525]]   \n",
       "1            [[John Updike, 0.5856], [None, 0.4144]]   \n",
       "2  [[None, 0.6493], [President Bill Clinton, 0.27...   \n",
       "3  [[Xavier Becerra, 0.9065], [None, 0.0909], [St...   \n",
       "4          [[None, 0.8737], [Jason Fulford, 0.1263]]   \n",
       "\n",
       "                                                urls phase  \n",
       "0  [https://www.nytimes.com/2019/04/17/realestate...     E  \n",
       "1  [https://www.nytimes.com/2019/04/02/opinion/vl...     E  \n",
       "2  [http://mobile.nytimes.com/2019/05/09/world/as...     E  \n",
       "3  [http://www.nytimes.com/2019/10/31/technology/...     E  \n",
       "4  [https://www.nytimes.com/2019/01/04/books/revi...     E  "
      ]
     },
     "execution_count": 3,
     "metadata": {},
     "output_type": "execute_result"
    }
   ],
   "source": [
    "#Check Data Summary\n",
    "df.head()"
   ]
  },
  {
   "cell_type": "code",
   "execution_count": 5,
   "id": "6f36bbff-1edd-4293-9c9c-5c58cf6c944e",
   "metadata": {},
   "outputs": [
    {
     "name": "stdout",
     "output_type": "stream",
     "text": [
      "House Hunting in … Hong Kong - The New York Times\n"
     ]
    }
   ],
   "source": [
    "#UNFINISHED ATTEMPT TO PARSE URLS' TITLES\n",
    "df['urls']\n",
    "import re\n",
    "from urllib.request import urlopen\n",
    "\n",
    "\n",
    "url = \"https://www.nytimes.com/2019/04/17/realestate/house-hunting-in-hong-kong.html?partner=rss&emc=rss\"\n",
    "page = urlopen(url)\n",
    "html = page.read().decode(\"utf-8\")\n",
    "# print(html)\n",
    "pattern = \"<title.*?>.*?</title.*?>\"\n",
    "match_results = re.search(pattern, html, re.IGNORECASE)\n",
    "title = match_results.group()\n",
    "title = re.sub(\"<.*?>\", \"\", title) # Remove HTML tags\n",
    "\n",
    "print(title)"
   ]
  },
  {
   "cell_type": "code",
   "execution_count": null,
   "id": "eecc91a7-953f-4bff-ba67-bfb61eacb3b9",
   "metadata": {},
   "outputs": [],
   "source": [
    "#UNFINISHED ATTEMPT TO PARSE URLS' TITLES\n",
    "def extract_article_title_entry(urls):\n",
    "    article_titles = []\n",
    "    urls = urls[:100]\n",
    "    for url in urls:\n",
    "        # for i in range(len(url)):\n",
    "        print(url)\n",
    "            # try:\n",
    "            #     page = urlopen(url[i])\n",
    "            # except:\n",
    "            #     print(url[i])\n",
    "            #     html = page.read().decode(\"utf-8\")\n",
    "            #     pattern = \"<title.*?>.*?</title.*?>\"\n",
    "            #     match_results = re.search(pattern, html, re.IGNORECASE)\n",
    "            #     title = match_results.group()\n",
    "            #     title = re.sub(\"<.*?>\", \"\", title)\n",
    "            #     article_titles.append(title)\n",
    "    # return article_titles\n",
    "\n",
    "urls = [df['urls'][i] for i in range(len(df))]\n",
    "# print(df['urls'][2])\n",
    "article_titles = extract_article_title_entry(urls)\n",
    "# df.assign(article_titles=article_titles)"
   ]
  },
  {
   "cell_type": "code",
   "execution_count": 17,
   "id": "d94b9288-aa97-464b-bcde-4e2848b5b96f",
   "metadata": {},
   "outputs": [],
   "source": [
    "#CHECK THE QUOTES THAT IN INCLUDE SPECIFIC WORDS\n",
    "quotations = df['quotation']\n",
    "results = quotations.str.contains('murder', regex=False)"
   ]
  },
  {
   "cell_type": "code",
   "execution_count": 34,
   "id": "33e3bcd7-f786-4d02-b50b-601ad663c698",
   "metadata": {},
   "outputs": [],
   "source": [
    "# CHECK SPECIFIC SPEAKERS\n",
    "quotations = df['speaker']\n",
    "results = quotations.str.contains('Roy', regex=False)"
   ]
  },
  {
   "cell_type": "code",
   "execution_count": 35,
   "id": "1f947b36-aa62-4176-ae23-a3a182f074d3",
   "metadata": {},
   "outputs": [],
   "source": [
    "indices = list(results[results == True].index)\n",
    "df.iloc[indices,:]['speaker']"
   ]
  },
  {
   "cell_type": "code",
   "execution_count": null,
   "id": "f8a804a4-3b08-4b6c-a751-e4e13bf90a35",
   "metadata": {},
   "outputs": [],
   "source": []
  }
 ],
 "metadata": {
  "kernelspec": {
   "display_name": "Python 3 (ipykernel)",
   "language": "python",
   "name": "python3"
  },
  "language_info": {
   "codemirror_mode": {
    "name": "ipython",
    "version": 3
   },
   "file_extension": ".py",
   "mimetype": "text/x-python",
   "name": "python",
   "nbconvert_exporter": "python",
   "pygments_lexer": "ipython3",
   "version": "3.8.11"
  }
 },
 "nbformat": 4,
 "nbformat_minor": 5
}
